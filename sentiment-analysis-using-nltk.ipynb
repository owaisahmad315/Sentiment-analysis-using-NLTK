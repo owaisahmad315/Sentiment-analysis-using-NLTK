{
 "cells": [
  {
   "cell_type": "code",
   "execution_count": 1,
   "id": "ab9af50b",
   "metadata": {
    "execution": {
     "iopub.execute_input": "2024-02-20T15:46:15.263971Z",
     "iopub.status.busy": "2024-02-20T15:46:15.263268Z",
     "iopub.status.idle": "2024-02-20T15:46:18.600790Z",
     "shell.execute_reply": "2024-02-20T15:46:18.598800Z"
    },
    "papermill": {
     "duration": 3.350439,
     "end_time": "2024-02-20T15:46:18.604458",
     "exception": false,
     "start_time": "2024-02-20T15:46:15.254019",
     "status": "completed"
    },
    "tags": []
   },
   "outputs": [],
   "source": [
    "import pandas as pd\n",
    "import numpy as np\n",
    "import matplotlib.pyplot as plt\n",
    "import seaborn as sns\n",
    "\n",
    "plt.style.use('ggplot')\n",
    "\n",
    "import nltk"
   ]
  },
  {
   "cell_type": "code",
   "execution_count": 2,
   "id": "36609bb0",
   "metadata": {
    "execution": {
     "iopub.execute_input": "2024-02-20T15:46:18.620710Z",
     "iopub.status.busy": "2024-02-20T15:46:18.620178Z",
     "iopub.status.idle": "2024-02-20T15:46:19.722711Z",
     "shell.execute_reply": "2024-02-20T15:46:19.721532Z"
    },
    "papermill": {
     "duration": 1.113598,
     "end_time": "2024-02-20T15:46:19.725449",
     "exception": false,
     "start_time": "2024-02-20T15:46:18.611851",
     "status": "completed"
    },
    "tags": []
   },
   "outputs": [
    {
     "name": "stdout",
     "output_type": "stream",
     "text": [
      "/kaggle/working\r\n"
     ]
    }
   ],
   "source": [
    "!pwd"
   ]
  },
  {
   "cell_type": "code",
   "execution_count": 3,
   "id": "2e3be364",
   "metadata": {
    "execution": {
     "iopub.execute_input": "2024-02-20T15:46:19.743000Z",
     "iopub.status.busy": "2024-02-20T15:46:19.742274Z",
     "iopub.status.idle": "2024-02-20T15:46:19.749904Z",
     "shell.execute_reply": "2024-02-20T15:46:19.748501Z"
    },
    "papermill": {
     "duration": 0.019108,
     "end_time": "2024-02-20T15:46:19.752109",
     "exception": false,
     "start_time": "2024-02-20T15:46:19.733001",
     "status": "completed"
    },
    "tags": []
   },
   "outputs": [
    {
     "name": "stdout",
     "output_type": "stream",
     "text": [
      "[Errno 2] No such file or directory: 'working'\n",
      "/kaggle/working\n"
     ]
    }
   ],
   "source": [
    "%cd working"
   ]
  },
  {
   "cell_type": "code",
   "execution_count": 4,
   "id": "c1ea0e29",
   "metadata": {
    "execution": {
     "iopub.execute_input": "2024-02-20T15:46:19.769069Z",
     "iopub.status.busy": "2024-02-20T15:46:19.768384Z",
     "iopub.status.idle": "2024-02-20T15:46:28.566360Z",
     "shell.execute_reply": "2024-02-20T15:46:28.564941Z"
    },
    "papermill": {
     "duration": 8.809631,
     "end_time": "2024-02-20T15:46:28.569086",
     "exception": false,
     "start_time": "2024-02-20T15:46:19.759455",
     "status": "completed"
    },
    "tags": []
   },
   "outputs": [
    {
     "name": "stdout",
     "output_type": "stream",
     "text": [
      "(568454, 10)\n",
      "(500, 10)\n"
     ]
    }
   ],
   "source": [
    "# Read in Data\n",
    "df = pd.read_csv('../input/amazon-fine-food-reviews/Reviews.csv')\n",
    "print(df.shape)\n",
    "df = df.head(500)\n",
    "print(df.shape)"
   ]
  },
  {
   "cell_type": "code",
   "execution_count": 5,
   "id": "2090a80b",
   "metadata": {
    "execution": {
     "iopub.execute_input": "2024-02-20T15:46:28.585543Z",
     "iopub.status.busy": "2024-02-20T15:46:28.585125Z",
     "iopub.status.idle": "2024-02-20T15:46:28.606836Z",
     "shell.execute_reply": "2024-02-20T15:46:28.605738Z"
    },
    "papermill": {
     "duration": 0.032557,
     "end_time": "2024-02-20T15:46:28.609133",
     "exception": false,
     "start_time": "2024-02-20T15:46:28.576576",
     "status": "completed"
    },
    "tags": []
   },
   "outputs": [
    {
     "data": {
      "text/html": [
       "<div>\n",
       "<style scoped>\n",
       "    .dataframe tbody tr th:only-of-type {\n",
       "        vertical-align: middle;\n",
       "    }\n",
       "\n",
       "    .dataframe tbody tr th {\n",
       "        vertical-align: top;\n",
       "    }\n",
       "\n",
       "    .dataframe thead th {\n",
       "        text-align: right;\n",
       "    }\n",
       "</style>\n",
       "<table border=\"1\" class=\"dataframe\">\n",
       "  <thead>\n",
       "    <tr style=\"text-align: right;\">\n",
       "      <th></th>\n",
       "      <th>Id</th>\n",
       "      <th>ProductId</th>\n",
       "      <th>UserId</th>\n",
       "      <th>ProfileName</th>\n",
       "      <th>HelpfulnessNumerator</th>\n",
       "      <th>HelpfulnessDenominator</th>\n",
       "      <th>Score</th>\n",
       "      <th>Time</th>\n",
       "      <th>Summary</th>\n",
       "      <th>Text</th>\n",
       "    </tr>\n",
       "  </thead>\n",
       "  <tbody>\n",
       "    <tr>\n",
       "      <th>0</th>\n",
       "      <td>1</td>\n",
       "      <td>B001E4KFG0</td>\n",
       "      <td>A3SGXH7AUHU8GW</td>\n",
       "      <td>delmartian</td>\n",
       "      <td>1</td>\n",
       "      <td>1</td>\n",
       "      <td>5</td>\n",
       "      <td>1303862400</td>\n",
       "      <td>Good Quality Dog Food</td>\n",
       "      <td>I have bought several of the Vitality canned d...</td>\n",
       "    </tr>\n",
       "    <tr>\n",
       "      <th>1</th>\n",
       "      <td>2</td>\n",
       "      <td>B00813GRG4</td>\n",
       "      <td>A1D87F6ZCVE5NK</td>\n",
       "      <td>dll pa</td>\n",
       "      <td>0</td>\n",
       "      <td>0</td>\n",
       "      <td>1</td>\n",
       "      <td>1346976000</td>\n",
       "      <td>Not as Advertised</td>\n",
       "      <td>Product arrived labeled as Jumbo Salted Peanut...</td>\n",
       "    </tr>\n",
       "    <tr>\n",
       "      <th>2</th>\n",
       "      <td>3</td>\n",
       "      <td>B000LQOCH0</td>\n",
       "      <td>ABXLMWJIXXAIN</td>\n",
       "      <td>Natalia Corres \"Natalia Corres\"</td>\n",
       "      <td>1</td>\n",
       "      <td>1</td>\n",
       "      <td>4</td>\n",
       "      <td>1219017600</td>\n",
       "      <td>\"Delight\" says it all</td>\n",
       "      <td>This is a confection that has been around a fe...</td>\n",
       "    </tr>\n",
       "    <tr>\n",
       "      <th>3</th>\n",
       "      <td>4</td>\n",
       "      <td>B000UA0QIQ</td>\n",
       "      <td>A395BORC6FGVXV</td>\n",
       "      <td>Karl</td>\n",
       "      <td>3</td>\n",
       "      <td>3</td>\n",
       "      <td>2</td>\n",
       "      <td>1307923200</td>\n",
       "      <td>Cough Medicine</td>\n",
       "      <td>If you are looking for the secret ingredient i...</td>\n",
       "    </tr>\n",
       "    <tr>\n",
       "      <th>4</th>\n",
       "      <td>5</td>\n",
       "      <td>B006K2ZZ7K</td>\n",
       "      <td>A1UQRSCLF8GW1T</td>\n",
       "      <td>Michael D. Bigham \"M. Wassir\"</td>\n",
       "      <td>0</td>\n",
       "      <td>0</td>\n",
       "      <td>5</td>\n",
       "      <td>1350777600</td>\n",
       "      <td>Great taffy</td>\n",
       "      <td>Great taffy at a great price.  There was a wid...</td>\n",
       "    </tr>\n",
       "  </tbody>\n",
       "</table>\n",
       "</div>"
      ],
      "text/plain": [
       "   Id   ProductId          UserId                      ProfileName  \\\n",
       "0   1  B001E4KFG0  A3SGXH7AUHU8GW                       delmartian   \n",
       "1   2  B00813GRG4  A1D87F6ZCVE5NK                           dll pa   \n",
       "2   3  B000LQOCH0   ABXLMWJIXXAIN  Natalia Corres \"Natalia Corres\"   \n",
       "3   4  B000UA0QIQ  A395BORC6FGVXV                             Karl   \n",
       "4   5  B006K2ZZ7K  A1UQRSCLF8GW1T    Michael D. Bigham \"M. Wassir\"   \n",
       "\n",
       "   HelpfulnessNumerator  HelpfulnessDenominator  Score        Time  \\\n",
       "0                     1                       1      5  1303862400   \n",
       "1                     0                       0      1  1346976000   \n",
       "2                     1                       1      4  1219017600   \n",
       "3                     3                       3      2  1307923200   \n",
       "4                     0                       0      5  1350777600   \n",
       "\n",
       "                 Summary                                               Text  \n",
       "0  Good Quality Dog Food  I have bought several of the Vitality canned d...  \n",
       "1      Not as Advertised  Product arrived labeled as Jumbo Salted Peanut...  \n",
       "2  \"Delight\" says it all  This is a confection that has been around a fe...  \n",
       "3         Cough Medicine  If you are looking for the secret ingredient i...  \n",
       "4            Great taffy  Great taffy at a great price.  There was a wid...  "
      ]
     },
     "execution_count": 5,
     "metadata": {},
     "output_type": "execute_result"
    }
   ],
   "source": [
    "df.head()"
   ]
  },
  {
   "cell_type": "markdown",
   "id": "eeb6f53c",
   "metadata": {
    "papermill": {
     "duration": 0.007196,
     "end_time": "2024-02-20T15:46:28.623966",
     "exception": false,
     "start_time": "2024-02-20T15:46:28.616770",
     "status": "completed"
    },
    "tags": []
   },
   "source": [
    "## Quick EDA\n"
   ]
  },
  {
   "cell_type": "code",
   "execution_count": 6,
   "id": "9c0d3074",
   "metadata": {
    "execution": {
     "iopub.execute_input": "2024-02-20T15:46:28.641561Z",
     "iopub.status.busy": "2024-02-20T15:46:28.641119Z",
     "iopub.status.idle": "2024-02-20T15:46:28.938279Z",
     "shell.execute_reply": "2024-02-20T15:46:28.937434Z"
    },
    "papermill": {
     "duration": 0.308681,
     "end_time": "2024-02-20T15:46:28.940485",
     "exception": false,
     "start_time": "2024-02-20T15:46:28.631804",
     "status": "completed"
    },
    "tags": []
   },
   "outputs": [
    {
     "data": {
      "image/png": "[encoded data removed]",
      "text/plain": [
       "<Figure size 1000x500 with 1 Axes>"
      ]
     },
     "metadata": {},
     "output_type": "display_data"
    }
   ],
   "source": [
    "ax = df['Score'].value_counts().sort_index() \\\n",
    "    .plot(kind='bar',\n",
    "          title='Count of Reviews by Stars',\n",
    "          figsize=(10,5))\n",
    "ax.set_xlabel('Review Stars')\n",
    "ax.set_ylabel('Number of Reviews')\n",
    "plt.show()"
   ]
  },
  {
   "cell_type": "markdown",
   "id": "999efffa",
   "metadata": {
    "papermill": {
     "duration": 0.008098,
     "end_time": "2024-02-20T15:46:28.956866",
     "exception": false,
     "start_time": "2024-02-20T15:46:28.948768",
     "status": "completed"
    },
    "tags": []
   },
   "source": [
    "## Basic NLTK"
   ]
  },
  {
   "cell_type": "code",
   "execution_count": 7,
   "id": "27f721d0",
   "metadata": {
    "execution": {
     "iopub.execute_input": "2024-02-20T15:46:28.975951Z",
     "iopub.status.busy": "2024-02-20T15:46:28.974928Z",
     "iopub.status.idle": "2024-02-20T15:46:28.980409Z",
     "shell.execute_reply": "2024-02-20T15:46:28.979326Z"
    },
    "papermill": {
     "duration": 0.017369,
     "end_time": "2024-02-20T15:46:28.982704",
     "exception": false,
     "start_time": "2024-02-20T15:46:28.965335",
     "status": "completed"
    },
    "tags": []
   },
   "outputs": [
    {
     "name": "stdout",
     "output_type": "stream",
     "text": [
      "This oatmeal is not good. Its mushy, soft, I don't like it. Quaker Oats is the way to go.\n"
     ]
    }
   ],
   "source": [
    "example = df['Text'][50]\n",
    "print(example)"
   ]
  },
  {
   "cell_type": "code",
   "execution_count": 8,
   "id": "583e863d",
   "metadata": {
    "execution": {
     "iopub.execute_input": "2024-02-20T15:46:29.001063Z",
     "iopub.status.busy": "2024-02-20T15:46:29.000667Z",
     "iopub.status.idle": "2024-02-20T15:46:29.025319Z",
     "shell.execute_reply": "2024-02-20T15:46:29.024117Z"
    },
    "papermill": {
     "duration": 0.036772,
     "end_time": "2024-02-20T15:46:29.027755",
     "exception": false,
     "start_time": "2024-02-20T15:46:28.990983",
     "status": "completed"
    },
    "tags": []
   },
   "outputs": [
    {
     "data": {
      "text/plain": [
       "['This', 'oatmeal', 'is', 'not', 'good', '.', 'Its', 'mushy', ',', 'soft']"
      ]
     },
     "execution_count": 8,
     "metadata": {},
     "output_type": "execute_result"
    }
   ],
   "source": [
    "tokens =nltk.word_tokenize(example)\n",
    "tokens[:10]"
   ]
  },
  {
   "cell_type": "code",
   "execution_count": 9,
   "id": "3e3c1203",
   "metadata": {
    "execution": {
     "iopub.execute_input": "2024-02-20T15:46:29.047227Z",
     "iopub.status.busy": "2024-02-20T15:46:29.045962Z",
     "iopub.status.idle": "2024-02-20T15:46:29.197715Z",
     "shell.execute_reply": "2024-02-20T15:46:29.196480Z"
    },
    "papermill": {
     "duration": 0.164071,
     "end_time": "2024-02-20T15:46:29.200309",
     "exception": false,
     "start_time": "2024-02-20T15:46:29.036238",
     "status": "completed"
    },
    "tags": []
   },
   "outputs": [
    {
     "data": {
      "text/plain": [
       "[('This', 'DT'),\n",
       " ('oatmeal', 'NN'),\n",
       " ('is', 'VBZ'),\n",
       " ('not', 'RB'),\n",
       " ('good', 'JJ'),\n",
       " ('.', '.'),\n",
       " ('Its', 'PRP$'),\n",
       " ('mushy', 'NN'),\n",
       " (',', ','),\n",
       " ('soft', 'JJ')]"
      ]
     },
     "execution_count": 9,
     "metadata": {},
     "output_type": "execute_result"
    }
   ],
   "source": [
    "tagged = nltk.pos_tag(tokens)\n",
    "tagged[:10]"
   ]
  },
  {
   "cell_type": "code",
   "execution_count": 10,
   "id": "97154cc3",
   "metadata": {
    "execution": {
     "iopub.execute_input": "2024-02-20T15:46:29.220291Z",
     "iopub.status.busy": "2024-02-20T15:46:29.219847Z",
     "iopub.status.idle": "2024-02-20T15:46:29.370317Z",
     "shell.execute_reply": "2024-02-20T15:46:29.368276Z"
    },
    "papermill": {
     "duration": 0.163064,
     "end_time": "2024-02-20T15:46:29.372949",
     "exception": false,
     "start_time": "2024-02-20T15:46:29.209885",
     "status": "completed"
    },
    "tags": []
   },
   "outputs": [
    {
     "name": "stdout",
     "output_type": "stream",
     "text": [
      "(S\n",
      "  This/DT\n",
      "  oatmeal/NN\n",
      "  is/VBZ\n",
      "  not/RB\n",
      "  good/JJ\n",
      "  ./.\n",
      "  Its/PRP$\n",
      "  mushy/NN\n",
      "  ,/,\n",
      "  soft/JJ\n",
      "  ,/,\n",
      "  I/PRP\n",
      "  do/VBP\n",
      "  n't/RB\n",
      "  like/VB\n",
      "  it/PRP\n",
      "  ./.\n",
      "  (ORGANIZATION Quaker/NNP Oats/NNPS)\n",
      "  is/VBZ\n",
      "  the/DT\n",
      "  way/NN\n",
      "  to/TO\n",
      "  go/VB\n",
      "  ./.)\n"
     ]
    }
   ],
   "source": [
    "entities = nltk.chunk.ne_chunk(tagged)\n",
    "entities.pprint()"
   ]
  },
  {
   "cell_type": "markdown",
   "id": "ffa9d071",
   "metadata": {
    "papermill": {
     "duration": 0.008517,
     "end_time": "2024-02-20T15:46:29.390898",
     "exception": false,
     "start_time": "2024-02-20T15:46:29.382381",
     "status": "completed"
    },
    "tags": []
   },
   "source": [
    "## Step 1. VADER Sentiment Scoring\n",
    "We will use nltk sentimentIntensityAnalyer to get the neg/neu/pos scores of the text.\n",
    "1. stop words are removed\n",
    "2. each word is scored and combined to a total score."
   ]
  },
  {
   "cell_type": "code",
   "execution_count": 11,
   "id": "6d024cd4",
   "metadata": {
    "execution": {
     "iopub.execute_input": "2024-02-20T15:46:29.410666Z",
     "iopub.status.busy": "2024-02-20T15:46:29.410254Z",
     "iopub.status.idle": "2024-02-20T15:46:29.453584Z",
     "shell.execute_reply": "2024-02-20T15:46:29.452228Z"
    },
    "papermill": {
     "duration": 0.056334,
     "end_time": "2024-02-20T15:46:29.456051",
     "exception": false,
     "start_time": "2024-02-20T15:46:29.399717",
     "status": "completed"
    },
    "tags": []
   },
   "outputs": [
    {
     "name": "stderr",
     "output_type": "stream",
     "text": [
      "/opt/conda/lib/python3.10/site-packages/nltk/twitter/__init__.py:20: UserWarning: The twython library has not been installed. Some functionality from the twitter package will not be available.\n",
      "  warnings.warn(\"The twython library has not been installed. \"\n"
     ]
    }
   ],
   "source": [
    "from nltk.sentiment import SentimentIntensityAnalyzer\n",
    "from tqdm import tqdm\n",
    "\n",
    "sia = SentimentIntensityAnalyzer()"
   ]
  },
  {
   "cell_type": "code",
   "execution_count": 12,
   "id": "fee6a627",
   "metadata": {
    "execution": {
     "iopub.execute_input": "2024-02-20T15:46:29.476131Z",
     "iopub.status.busy": "2024-02-20T15:46:29.475059Z",
     "iopub.status.idle": "2024-02-20T15:46:29.482047Z",
     "shell.execute_reply": "2024-02-20T15:46:29.481022Z"
    },
    "papermill": {
     "duration": 0.019345,
     "end_time": "2024-02-20T15:46:29.484198",
     "exception": false,
     "start_time": "2024-02-20T15:46:29.464853",
     "status": "completed"
    },
    "tags": []
   },
   "outputs": [
    {
     "data": {
      "text/plain": [
       "<nltk.sentiment.vader.SentimentIntensityAnalyzer at 0x7de910601ed0>"
      ]
     },
     "execution_count": 12,
     "metadata": {},
     "output_type": "execute_result"
    }
   ],
   "source": [
    "sia"
   ]
  },
  {
   "cell_type": "code",
   "execution_count": 13,
   "id": "0e3e0b81",
   "metadata": {
    "execution": {
     "iopub.execute_input": "2024-02-20T15:46:29.504527Z",
     "iopub.status.busy": "2024-02-20T15:46:29.503464Z",
     "iopub.status.idle": "2024-02-20T15:46:29.511154Z",
     "shell.execute_reply": "2024-02-20T15:46:29.509751Z"
    },
    "papermill": {
     "duration": 0.02054,
     "end_time": "2024-02-20T15:46:29.513589",
     "exception": false,
     "start_time": "2024-02-20T15:46:29.493049",
     "status": "completed"
    },
    "tags": []
   },
   "outputs": [
    {
     "data": {
      "text/plain": [
       "{'neg': 0.0, 'neu': 0.334, 'pos': 0.666, 'compound': 0.6115}"
      ]
     },
     "execution_count": 13,
     "metadata": {},
     "output_type": "execute_result"
    }
   ],
   "source": [
    "sia.polarity_scores('i am so happy')"
   ]
  },
  {
   "cell_type": "code",
   "execution_count": 14,
   "id": "8e479d6d",
   "metadata": {
    "execution": {
     "iopub.execute_input": "2024-02-20T15:46:29.535263Z",
     "iopub.status.busy": "2024-02-20T15:46:29.534025Z",
     "iopub.status.idle": "2024-02-20T15:46:29.542018Z",
     "shell.execute_reply": "2024-02-20T15:46:29.540930Z"
    },
    "papermill": {
     "duration": 0.021891,
     "end_time": "2024-02-20T15:46:29.545229",
     "exception": false,
     "start_time": "2024-02-20T15:46:29.523338",
     "status": "completed"
    },
    "tags": []
   },
   "outputs": [
    {
     "data": {
      "text/plain": [
       "{'neg': 0.451, 'neu': 0.549, 'pos': 0.0, 'compound': -0.6249}"
      ]
     },
     "execution_count": 14,
     "metadata": {},
     "output_type": "execute_result"
    }
   ],
   "source": [
    "sia.polarity_scores('This is the worst thing ever.')"
   ]
  },
  {
   "cell_type": "code",
   "execution_count": 15,
   "id": "ada884ac",
   "metadata": {
    "execution": {
     "iopub.execute_input": "2024-02-20T15:46:29.565987Z",
     "iopub.status.busy": "2024-02-20T15:46:29.565210Z",
     "iopub.status.idle": "2024-02-20T15:46:29.573078Z",
     "shell.execute_reply": "2024-02-20T15:46:29.571927Z"
    },
    "papermill": {
     "duration": 0.020888,
     "end_time": "2024-02-20T15:46:29.575395",
     "exception": false,
     "start_time": "2024-02-20T15:46:29.554507",
     "status": "completed"
    },
    "tags": []
   },
   "outputs": [
    {
     "data": {
      "text/plain": [
       "{'neg': 0.22, 'neu': 0.78, 'pos': 0.0, 'compound': -0.5448}"
      ]
     },
     "execution_count": 15,
     "metadata": {},
     "output_type": "execute_result"
    }
   ],
   "source": [
    "sia.polarity_scores(example)"
   ]
  },
  {
   "cell_type": "code",
   "execution_count": 16,
   "id": "c0865ba9",
   "metadata": {
    "execution": {
     "iopub.execute_input": "2024-02-20T15:46:29.595970Z",
     "iopub.status.busy": "2024-02-20T15:46:29.595570Z",
     "iopub.status.idle": "2024-02-20T15:46:30.239032Z",
     "shell.execute_reply": "2024-02-20T15:46:30.237640Z"
    },
    "papermill": {
     "duration": 0.657785,
     "end_time": "2024-02-20T15:46:30.242439",
     "exception": false,
     "start_time": "2024-02-20T15:46:29.584654",
     "status": "completed"
    },
    "tags": []
   },
   "outputs": [
    {
     "name": "stderr",
     "output_type": "stream",
     "text": [
      "100%|██████████| 500/500 [00:00<00:00, 791.99it/s]\n"
     ]
    }
   ],
   "source": [
    "# run the polarity score on the entire dataset\n",
    "res = {}\n",
    "for i, row in tqdm(df.iterrows(), total = len(df)):\n",
    "    text = row['Text']\n",
    "    myid = row['Id']\n",
    "    res[myid] = sia.polarity_scores(text)\n",
    "     \n",
    "    \n",
    "    "
   ]
  },
  {
   "cell_type": "code",
   "execution_count": 17,
   "id": "ffea4546",
   "metadata": {
    "execution": {
     "iopub.execute_input": "2024-02-20T15:46:30.265223Z",
     "iopub.status.busy": "2024-02-20T15:46:30.264820Z",
     "iopub.status.idle": "2024-02-20T15:46:30.296607Z",
     "shell.execute_reply": "2024-02-20T15:46:30.295400Z"
    },
    "papermill": {
     "duration": 0.046238,
     "end_time": "2024-02-20T15:46:30.299327",
     "exception": false,
     "start_time": "2024-02-20T15:46:30.253089",
     "status": "completed"
    },
    "tags": []
   },
   "outputs": [],
   "source": [
    "vaders = pd.DataFrame(res).T\n",
    "vaders = vaders.reset_index().rename(columns={'index': 'Id'})\n",
    "vaders = vaders.merge(df, how='left')\n",
    "\n"
   ]
  },
  {
   "cell_type": "code",
   "execution_count": 18,
   "id": "6ba0f738",
   "metadata": {
    "execution": {
     "iopub.execute_input": "2024-02-20T15:46:30.321807Z",
     "iopub.status.busy": "2024-02-20T15:46:30.321400Z",
     "iopub.status.idle": "2024-02-20T15:46:30.342242Z",
     "shell.execute_reply": "2024-02-20T15:46:30.341060Z"
    },
    "papermill": {
     "duration": 0.034958,
     "end_time": "2024-02-20T15:46:30.344642",
     "exception": false,
     "start_time": "2024-02-20T15:46:30.309684",
     "status": "completed"
    },
    "tags": []
   },
   "outputs": [
    {
     "data": {
      "text/html": [
       "<div>\n",
       "<style scoped>\n",
       "    .dataframe tbody tr th:only-of-type {\n",
       "        vertical-align: middle;\n",
       "    }\n",
       "\n",
       "    .dataframe tbody tr th {\n",
       "        vertical-align: top;\n",
       "    }\n",
       "\n",
       "    .dataframe thead th {\n",
       "        text-align: right;\n",
       "    }\n",
       "</style>\n",
       "<table border=\"1\" class=\"dataframe\">\n",
       "  <thead>\n",
       "    <tr style=\"text-align: right;\">\n",
       "      <th></th>\n",
       "      <th>Id</th>\n",
       "      <th>neg</th>\n",
       "      <th>neu</th>\n",
       "      <th>pos</th>\n",
       "      <th>compound</th>\n",
       "      <th>ProductId</th>\n",
       "      <th>UserId</th>\n",
       "      <th>ProfileName</th>\n",
       "      <th>HelpfulnessNumerator</th>\n",
       "      <th>HelpfulnessDenominator</th>\n",
       "      <th>Score</th>\n",
       "      <th>Time</th>\n",
       "      <th>Summary</th>\n",
       "      <th>Text</th>\n",
       "    </tr>\n",
       "  </thead>\n",
       "  <tbody>\n",
       "    <tr>\n",
       "      <th>0</th>\n",
       "      <td>1</td>\n",
       "      <td>0.000</td>\n",
       "      <td>0.695</td>\n",
       "      <td>0.305</td>\n",
       "      <td>0.9441</td>\n",
       "      <td>B001E4KFG0</td>\n",
       "      <td>A3SGXH7AUHU8GW</td>\n",
       "      <td>delmartian</td>\n",
       "      <td>1</td>\n",
       "      <td>1</td>\n",
       "      <td>5</td>\n",
       "      <td>1303862400</td>\n",
       "      <td>Good Quality Dog Food</td>\n",
       "      <td>I have bought several of the Vitality canned d...</td>\n",
       "    </tr>\n",
       "    <tr>\n",
       "      <th>1</th>\n",
       "      <td>2</td>\n",
       "      <td>0.079</td>\n",
       "      <td>0.853</td>\n",
       "      <td>0.068</td>\n",
       "      <td>-0.1027</td>\n",
       "      <td>B00813GRG4</td>\n",
       "      <td>A1D87F6ZCVE5NK</td>\n",
       "      <td>dll pa</td>\n",
       "      <td>0</td>\n",
       "      <td>0</td>\n",
       "      <td>1</td>\n",
       "      <td>1346976000</td>\n",
       "      <td>Not as Advertised</td>\n",
       "      <td>Product arrived labeled as Jumbo Salted Peanut...</td>\n",
       "    </tr>\n",
       "    <tr>\n",
       "      <th>2</th>\n",
       "      <td>3</td>\n",
       "      <td>0.091</td>\n",
       "      <td>0.754</td>\n",
       "      <td>0.155</td>\n",
       "      <td>0.8265</td>\n",
       "      <td>B000LQOCH0</td>\n",
       "      <td>ABXLMWJIXXAIN</td>\n",
       "      <td>Natalia Corres \"Natalia Corres\"</td>\n",
       "      <td>1</td>\n",
       "      <td>1</td>\n",
       "      <td>4</td>\n",
       "      <td>1219017600</td>\n",
       "      <td>\"Delight\" says it all</td>\n",
       "      <td>This is a confection that has been around a fe...</td>\n",
       "    </tr>\n",
       "    <tr>\n",
       "      <th>3</th>\n",
       "      <td>4</td>\n",
       "      <td>0.000</td>\n",
       "      <td>1.000</td>\n",
       "      <td>0.000</td>\n",
       "      <td>0.0000</td>\n",
       "      <td>B000UA0QIQ</td>\n",
       "      <td>A395BORC6FGVXV</td>\n",
       "      <td>Karl</td>\n",
       "      <td>3</td>\n",
       "      <td>3</td>\n",
       "      <td>2</td>\n",
       "      <td>1307923200</td>\n",
       "      <td>Cough Medicine</td>\n",
       "      <td>If you are looking for the secret ingredient i...</td>\n",
       "    </tr>\n",
       "    <tr>\n",
       "      <th>4</th>\n",
       "      <td>5</td>\n",
       "      <td>0.000</td>\n",
       "      <td>0.552</td>\n",
       "      <td>0.448</td>\n",
       "      <td>0.9468</td>\n",
       "      <td>B006K2ZZ7K</td>\n",
       "      <td>A1UQRSCLF8GW1T</td>\n",
       "      <td>Michael D. Bigham \"M. Wassir\"</td>\n",
       "      <td>0</td>\n",
       "      <td>0</td>\n",
       "      <td>5</td>\n",
       "      <td>1350777600</td>\n",
       "      <td>Great taffy</td>\n",
       "      <td>Great taffy at a great price.  There was a wid...</td>\n",
       "    </tr>\n",
       "  </tbody>\n",
       "</table>\n",
       "</div>"
      ],
      "text/plain": [
       "   Id    neg    neu    pos  compound   ProductId          UserId  \\\n",
       "0   1  0.000  0.695  0.305    0.9441  B001E4KFG0  A3SGXH7AUHU8GW   \n",
       "1   2  0.079  0.853  0.068   -0.1027  B00813GRG4  A1D87F6ZCVE5NK   \n",
       "2   3  0.091  0.754  0.155    0.8265  B000LQOCH0   ABXLMWJIXXAIN   \n",
       "3   4  0.000  1.000  0.000    0.0000  B000UA0QIQ  A395BORC6FGVXV   \n",
       "4   5  0.000  0.552  0.448    0.9468  B006K2ZZ7K  A1UQRSCLF8GW1T   \n",
       "\n",
       "                       ProfileName  HelpfulnessNumerator  \\\n",
       "0                       delmartian                     1   \n",
       "1                           dll pa                     0   \n",
       "2  Natalia Corres \"Natalia Corres\"                     1   \n",
       "3                             Karl                     3   \n",
       "4    Michael D. Bigham \"M. Wassir\"                     0   \n",
       "\n",
       "   HelpfulnessDenominator  Score        Time                Summary  \\\n",
       "0                       1      5  1303862400  Good Quality Dog Food   \n",
       "1                       0      1  1346976000      Not as Advertised   \n",
       "2                       1      4  1219017600  \"Delight\" says it all   \n",
       "3                       3      2  1307923200         Cough Medicine   \n",
       "4                       0      5  1350777600            Great taffy   \n",
       "\n",
       "                                                Text  \n",
       "0  I have bought several of the Vitality canned d...  \n",
       "1  Product arrived labeled as Jumbo Salted Peanut...  \n",
       "2  This is a confection that has been around a fe...  \n",
       "3  If you are looking for the secret ingredient i...  \n",
       "4  Great taffy at a great price.  There was a wid...  "
      ]
     },
     "execution_count": 18,
     "metadata": {},
     "output_type": "execute_result"
    }
   ],
   "source": [
    "# Now we have \n",
    "vaders.head()"
   ]
  }
 ],
 "metadata": {
  "kaggle": {
   "accelerator": "none",
   "dataSources": [
    {
     "datasetId": 4459264,
     "sourceId": 7649548,
     "sourceType": "datasetVersion"
    }
   ],
   "dockerImageVersionId": 30646,
   "isGpuEnabled": false,
   "isInternetEnabled": true,
   "language": "python",
   "sourceType": "notebook"
  },
  "kernelspec": {
   "display_name": "Python 3",
   "language": "python",
   "name": "python3"
  },
  "language_info": {
   "codemirror_mode": {
    "name": "ipython",
    "version": 3
   },
   "file_extension": ".py",
   "mimetype": "text/x-python",
   "name": "python",
   "nbconvert_exporter": "python",
   "pygments_lexer": "ipython3",
   "version": "3.10.13"
  },
  "papermill": {
   "default_parameters": {},
   "duration": 19.005801,
   "end_time": "2024-02-20T15:46:31.277818",
   "environment_variables": {},
   "exception": null,
   "input_path": "__notebook__.ipynb",
   "output_path": "__notebook__.ipynb",
   "parameters": {},
   "start_time": "2024-02-20T15:46:12.272017",
   "version": "2.5.0"
  }
 },
 "nbformat": 4,
 "nbformat_minor": 5
}
