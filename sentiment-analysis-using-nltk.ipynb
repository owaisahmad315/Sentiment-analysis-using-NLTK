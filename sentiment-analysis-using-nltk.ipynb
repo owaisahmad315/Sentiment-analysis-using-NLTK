{
 "cells": [
  {
   "cell_type": "code",
   "execution_count": 1,
   "id": "02f7abd9",
   "metadata": {
    "execution": {
     "iopub.execute_input": "2024-02-24T15:40:55.782705Z",
     "iopub.status.busy": "2024-02-24T15:40:55.782241Z",
     "iopub.status.idle": "2024-02-24T15:41:00.436869Z",
     "shell.execute_reply": "2024-02-24T15:41:00.435442Z"
    },
    "papermill": {
     "duration": 4.669281,
     "end_time": "2024-02-24T15:41:00.440438",
     "exception": false,
     "start_time": "2024-02-24T15:40:55.771157",
     "status": "completed"
    },
    "tags": []
   },
   "outputs": [],
   "source": [
    "import pandas as pd\n",
    "import numpy as np\n",
    "import matplotlib.pyplot as plt\n",
    "import seaborn as sns\n",
    "\n",
    "plt.style.use('ggplot')\n",
    "\n",
    "import nltk"
   ]
  },
  {
   "cell_type": "code",
   "execution_count": 2,
   "id": "fd9503db",
   "metadata": {
    "execution": {
     "iopub.execute_input": "2024-02-24T15:41:00.466077Z",
     "iopub.status.busy": "2024-02-24T15:41:00.464093Z",
     "iopub.status.idle": "2024-02-24T15:41:01.648571Z",
     "shell.execute_reply": "2024-02-24T15:41:01.646835Z"
    },
    "papermill": {
     "duration": 1.200813,
     "end_time": "2024-02-24T15:41:01.651873",
     "exception": false,
     "start_time": "2024-02-24T15:41:00.451060",
     "status": "completed"
    },
    "tags": []
   },
   "outputs": [
    {
     "name": "stdout",
     "output_type": "stream",
     "text": [
      "/kaggle/working\r\n"
     ]
    }
   ],
   "source": [
    "!pwd"
   ]
  },
  {
   "cell_type": "code",
   "execution_count": 3,
   "id": "7a034560",
   "metadata": {
    "execution": {
     "iopub.execute_input": "2024-02-24T15:41:01.672529Z",
     "iopub.status.busy": "2024-02-24T15:41:01.670786Z",
     "iopub.status.idle": "2024-02-24T15:41:01.679450Z",
     "shell.execute_reply": "2024-02-24T15:41:01.678329Z"
    },
    "papermill": {
     "duration": 0.021835,
     "end_time": "2024-02-24T15:41:01.682127",
     "exception": false,
     "start_time": "2024-02-24T15:41:01.660292",
     "status": "completed"
    },
    "tags": []
   },
   "outputs": [
    {
     "name": "stdout",
     "output_type": "stream",
     "text": [
      "[Errno 2] No such file or directory: 'working'\n",
      "/kaggle/working\n"
     ]
    }
   ],
   "source": [
    "%cd working"
   ]
  },
  {
   "cell_type": "code",
   "execution_count": 4,
   "id": "93635865",
   "metadata": {
    "execution": {
     "iopub.execute_input": "2024-02-24T15:41:01.701008Z",
     "iopub.status.busy": "2024-02-24T15:41:01.700508Z",
     "iopub.status.idle": "2024-02-24T15:41:10.817198Z",
     "shell.execute_reply": "2024-02-24T15:41:10.815191Z"
    },
    "papermill": {
     "duration": 9.129502,
     "end_time": "2024-02-24T15:41:10.819842",
     "exception": false,
     "start_time": "2024-02-24T15:41:01.690340",
     "status": "completed"
    },
    "tags": []
   },
   "outputs": [
    {
     "name": "stdout",
     "output_type": "stream",
     "text": [
      "(568454, 10)\n",
      "(500, 10)\n"
     ]
    }
   ],
   "source": [
    "# Read in Data\n",
    "df = pd.read_csv('../input/amazon-fine-food-reviews/Reviews.csv')\n",
    "print(df.shape)\n",
    "df = df.head(500)\n",
    "print(df.shape)"
   ]
  },
  {
   "cell_type": "code",
   "execution_count": 5,
   "id": "5617bf8d",
   "metadata": {
    "execution": {
     "iopub.execute_input": "2024-02-24T15:41:10.839102Z",
     "iopub.status.busy": "2024-02-24T15:41:10.838644Z",
     "iopub.status.idle": "2024-02-24T15:41:10.864971Z",
     "shell.execute_reply": "2024-02-24T15:41:10.863426Z"
    },
    "papermill": {
     "duration": 0.040578,
     "end_time": "2024-02-24T15:41:10.869085",
     "exception": false,
     "start_time": "2024-02-24T15:41:10.828507",
     "status": "completed"
    },
    "tags": []
   },
   "outputs": [
    {
     "data": {
      "text/html": [
       "<div>\n",
       "<style scoped>\n",
       "    .dataframe tbody tr th:only-of-type {\n",
       "        vertical-align: middle;\n",
       "    }\n",
       "\n",
       "    .dataframe tbody tr th {\n",
       "        vertical-align: top;\n",
       "    }\n",
       "\n",
       "    .dataframe thead th {\n",
       "        text-align: right;\n",
       "    }\n",
       "</style>\n",
       "<table border=\"1\" class=\"dataframe\">\n",
       "  <thead>\n",
       "    <tr style=\"text-align: right;\">\n",
       "      <th></th>\n",
       "      <th>Id</th>\n",
       "      <th>ProductId</th>\n",
       "      <th>UserId</th>\n",
       "      <th>ProfileName</th>\n",
       "      <th>HelpfulnessNumerator</th>\n",
       "      <th>HelpfulnessDenominator</th>\n",
       "      <th>Score</th>\n",
       "      <th>Time</th>\n",
       "      <th>Summary</th>\n",
       "      <th>Text</th>\n",
       "    </tr>\n",
       "  </thead>\n",
       "  <tbody>\n",
       "    <tr>\n",
       "      <th>0</th>\n",
       "      <td>1</td>\n",
       "      <td>B001E4KFG0</td>\n",
       "      <td>A3SGXH7AUHU8GW</td>\n",
       "      <td>delmartian</td>\n",
       "      <td>1</td>\n",
       "      <td>1</td>\n",
       "      <td>5</td>\n",
       "      <td>1303862400</td>\n",
       "      <td>Good Quality Dog Food</td>\n",
       "      <td>I have bought several of the Vitality canned d...</td>\n",
       "    </tr>\n",
       "    <tr>\n",
       "      <th>1</th>\n",
       "      <td>2</td>\n",
       "      <td>B00813GRG4</td>\n",
       "      <td>A1D87F6ZCVE5NK</td>\n",
       "      <td>dll pa</td>\n",
       "      <td>0</td>\n",
       "      <td>0</td>\n",
       "      <td>1</td>\n",
       "      <td>1346976000</td>\n",
       "      <td>Not as Advertised</td>\n",
       "      <td>Product arrived labeled as Jumbo Salted Peanut...</td>\n",
       "    </tr>\n",
       "    <tr>\n",
       "      <th>2</th>\n",
       "      <td>3</td>\n",
       "      <td>B000LQOCH0</td>\n",
       "      <td>ABXLMWJIXXAIN</td>\n",
       "      <td>Natalia Corres \"Natalia Corres\"</td>\n",
       "      <td>1</td>\n",
       "      <td>1</td>\n",
       "      <td>4</td>\n",
       "      <td>1219017600</td>\n",
       "      <td>\"Delight\" says it all</td>\n",
       "      <td>This is a confection that has been around a fe...</td>\n",
       "    </tr>\n",
       "    <tr>\n",
       "      <th>3</th>\n",
       "      <td>4</td>\n",
       "      <td>B000UA0QIQ</td>\n",
       "      <td>A395BORC6FGVXV</td>\n",
       "      <td>Karl</td>\n",
       "      <td>3</td>\n",
       "      <td>3</td>\n",
       "      <td>2</td>\n",
       "      <td>1307923200</td>\n",
       "      <td>Cough Medicine</td>\n",
       "      <td>If you are looking for the secret ingredient i...</td>\n",
       "    </tr>\n",
       "    <tr>\n",
       "      <th>4</th>\n",
       "      <td>5</td>\n",
       "      <td>B006K2ZZ7K</td>\n",
       "      <td>A1UQRSCLF8GW1T</td>\n",
       "      <td>Michael D. Bigham \"M. Wassir\"</td>\n",
       "      <td>0</td>\n",
       "      <td>0</td>\n",
       "      <td>5</td>\n",
       "      <td>1350777600</td>\n",
       "      <td>Great taffy</td>\n",
       "      <td>Great taffy at a great price.  There was a wid...</td>\n",
       "    </tr>\n",
       "  </tbody>\n",
       "</table>\n",
       "</div>"
      ],
      "text/plain": [
       "   Id   ProductId          UserId                      ProfileName  \\\n",
       "0   1  B001E4KFG0  A3SGXH7AUHU8GW                       delmartian   \n",
       "1   2  B00813GRG4  A1D87F6ZCVE5NK                           dll pa   \n",
       "2   3  B000LQOCH0   ABXLMWJIXXAIN  Natalia Corres \"Natalia Corres\"   \n",
       "3   4  B000UA0QIQ  A395BORC6FGVXV                             Karl   \n",
       "4   5  B006K2ZZ7K  A1UQRSCLF8GW1T    Michael D. Bigham \"M. Wassir\"   \n",
       "\n",
       "   HelpfulnessNumerator  HelpfulnessDenominator  Score        Time  \\\n",
       "0                     1                       1      5  1303862400   \n",
       "1                     0                       0      1  1346976000   \n",
       "2                     1                       1      4  1219017600   \n",
       "3                     3                       3      2  1307923200   \n",
       "4                     0                       0      5  1350777600   \n",
       "\n",
       "                 Summary                                               Text  \n",
       "0  Good Quality Dog Food  I have bought several of the Vitality canned d...  \n",
       "1      Not as Advertised  Product arrived labeled as Jumbo Salted Peanut...  \n",
       "2  \"Delight\" says it all  This is a confection that has been around a fe...  \n",
       "3         Cough Medicine  If you are looking for the secret ingredient i...  \n",
       "4            Great taffy  Great taffy at a great price.  There was a wid...  "
      ]
     },
     "execution_count": 5,
     "metadata": {},
     "output_type": "execute_result"
    }
   ],
   "source": [
    "df.head()"
   ]
  },
  {
   "cell_type": "markdown",
   "id": "b541f251",
   "metadata": {
    "papermill": {
     "duration": 0.009658,
     "end_time": "2024-02-24T15:41:10.888881",
     "exception": false,
     "start_time": "2024-02-24T15:41:10.879223",
     "status": "completed"
    },
    "tags": []
   },
   "source": [
    "## Quick EDA\n"
   ]
  },
  {
   "cell_type": "code",
   "execution_count": 6,
   "id": "1a5db149",
   "metadata": {
    "execution": {
     "iopub.execute_input": "2024-02-24T15:41:10.911760Z",
     "iopub.status.busy": "2024-02-24T15:41:10.911346Z",
     "iopub.status.idle": "2024-02-24T15:41:11.242370Z",
     "shell.execute_reply": "2024-02-24T15:41:11.240832Z"
    },
    "papermill": {
     "duration": 0.34637,
     "end_time": "2024-02-24T15:41:11.245945",
     "exception": false,
     "start_time": "2024-02-24T15:41:10.899575",
     "status": "completed"
    },
    "tags": []
   },
   "outputs": [
    {
     "data": {
      "image/png": "[encoded data removed]",
      "text/plain": [
       "<Figure size 1000x500 with 1 Axes>"
      ]
     },
     "metadata": {},
     "output_type": "display_data"
    }
   ],
   "source": [
    "ax = df['Score'].value_counts().sort_index() \\\n",
    "    .plot(kind='bar',\n",
    "          title='Count of Reviews by Stars',\n",
    "          figsize=(10,5))\n",
    "ax.set_xlabel('Review Stars')\n",
    "ax.set_ylabel('Number of Reviews')\n",
    "plt.show()"
   ]
  },
  {
   "cell_type": "markdown",
   "id": "56fcc283",
   "metadata": {
    "papermill": {
     "duration": 0.011501,
     "end_time": "2024-02-24T15:41:11.268267",
     "exception": false,
     "start_time": "2024-02-24T15:41:11.256766",
     "status": "completed"
    },
    "tags": []
   },
   "source": [
    "## Basic NLTK"
   ]
  },
  {
   "cell_type": "code",
   "execution_count": 7,
   "id": "434475a6",
   "metadata": {
    "execution": {
     "iopub.execute_input": "2024-02-24T15:41:11.293309Z",
     "iopub.status.busy": "2024-02-24T15:41:11.292908Z",
     "iopub.status.idle": "2024-02-24T15:41:11.300409Z",
     "shell.execute_reply": "2024-02-24T15:41:11.298623Z"
    },
    "papermill": {
     "duration": 0.024589,
     "end_time": "2024-02-24T15:41:11.303937",
     "exception": false,
     "start_time": "2024-02-24T15:41:11.279348",
     "status": "completed"
    },
    "tags": []
   },
   "outputs": [
    {
     "name": "stdout",
     "output_type": "stream",
     "text": [
      "This oatmeal is not good. Its mushy, soft, I don't like it. Quaker Oats is the way to go.\n"
     ]
    }
   ],
   "source": [
    "example = df['Text'][50]\n",
    "print(example)"
   ]
  },
  {
   "cell_type": "code",
   "execution_count": 8,
   "id": "72798689",
   "metadata": {
    "execution": {
     "iopub.execute_input": "2024-02-24T15:41:11.328491Z",
     "iopub.status.busy": "2024-02-24T15:41:11.328070Z",
     "iopub.status.idle": "2024-02-24T15:41:11.354925Z",
     "shell.execute_reply": "2024-02-24T15:41:11.353305Z"
    },
    "papermill": {
     "duration": 0.043489,
     "end_time": "2024-02-24T15:41:11.358817",
     "exception": false,
     "start_time": "2024-02-24T15:41:11.315328",
     "status": "completed"
    },
    "tags": []
   },
   "outputs": [
    {
     "data": {
      "text/plain": [
       "['This', 'oatmeal', 'is', 'not', 'good', '.', 'Its', 'mushy', ',', 'soft']"
      ]
     },
     "execution_count": 8,
     "metadata": {},
     "output_type": "execute_result"
    }
   ],
   "source": [
    "tokens =nltk.word_tokenize(example)\n",
    "tokens[:10]"
   ]
  },
  {
   "cell_type": "code",
   "execution_count": 9,
   "id": "d1e5beef",
   "metadata": {
    "execution": {
     "iopub.execute_input": "2024-02-24T15:41:11.383327Z",
     "iopub.status.busy": "2024-02-24T15:41:11.382942Z",
     "iopub.status.idle": "2024-02-24T15:41:11.540733Z",
     "shell.execute_reply": "2024-02-24T15:41:11.539270Z"
    },
    "papermill": {
     "duration": 0.173443,
     "end_time": "2024-02-24T15:41:11.544021",
     "exception": false,
     "start_time": "2024-02-24T15:41:11.370578",
     "status": "completed"
    },
    "tags": []
   },
   "outputs": [
    {
     "data": {
      "text/plain": [
       "[('This', 'DT'),\n",
       " ('oatmeal', 'NN'),\n",
       " ('is', 'VBZ'),\n",
       " ('not', 'RB'),\n",
       " ('good', 'JJ'),\n",
       " ('.', '.'),\n",
       " ('Its', 'PRP$'),\n",
       " ('mushy', 'NN'),\n",
       " (',', ','),\n",
       " ('soft', 'JJ')]"
      ]
     },
     "execution_count": 9,
     "metadata": {},
     "output_type": "execute_result"
    }
   ],
   "source": [
    "tagged = nltk.pos_tag(tokens)\n",
    "tagged[:10]"
   ]
  },
  {
   "cell_type": "code",
   "execution_count": 10,
   "id": "598c8fbd",
   "metadata": {
    "execution": {
     "iopub.execute_input": "2024-02-24T15:41:11.571529Z",
     "iopub.status.busy": "2024-02-24T15:41:11.571125Z",
     "iopub.status.idle": "2024-02-24T15:41:11.726941Z",
     "shell.execute_reply": "2024-02-24T15:41:11.724967Z"
    },
    "papermill": {
     "duration": 0.172345,
     "end_time": "2024-02-24T15:41:11.730493",
     "exception": false,
     "start_time": "2024-02-24T15:41:11.558148",
     "status": "completed"
    },
    "tags": []
   },
   "outputs": [
    {
     "name": "stdout",
     "output_type": "stream",
     "text": [
      "(S\n",
      "  This/DT\n",
      "  oatmeal/NN\n",
      "  is/VBZ\n",
      "  not/RB\n",
      "  good/JJ\n",
      "  ./.\n",
      "  Its/PRP$\n",
      "  mushy/NN\n",
      "  ,/,\n",
      "  soft/JJ\n",
      "  ,/,\n",
      "  I/PRP\n",
      "  do/VBP\n",
      "  n't/RB\n",
      "  like/VB\n",
      "  it/PRP\n",
      "  ./.\n",
      "  (ORGANIZATION Quaker/NNP Oats/NNPS)\n",
      "  is/VBZ\n",
      "  the/DT\n",
      "  way/NN\n",
      "  to/TO\n",
      "  go/VB\n",
      "  ./.)\n"
     ]
    }
   ],
   "source": [
    "entities = nltk.chunk.ne_chunk(tagged)\n",
    "entities.pprint()"
   ]
  },
  {
   "cell_type": "markdown",
   "id": "dae03a0c",
   "metadata": {
    "papermill": {
     "duration": 0.011337,
     "end_time": "2024-02-24T15:41:11.754434",
     "exception": false,
     "start_time": "2024-02-24T15:41:11.743097",
     "status": "completed"
    },
    "tags": []
   },
   "source": [
    "## Step 1. VADER Sentiment Scoring\n",
    "We will use nltk sentimentIntensityAnalyer to get the neg/neu/pos scores of the text.\n",
    "1. stop words are removed\n",
    "2. each word is scored and combined to a total score."
   ]
  },
  {
   "cell_type": "code",
   "execution_count": 11,
   "id": "fd97bbc2",
   "metadata": {
    "execution": {
     "iopub.execute_input": "2024-02-24T15:41:11.779247Z",
     "iopub.status.busy": "2024-02-24T15:41:11.778770Z",
     "iopub.status.idle": "2024-02-24T15:41:11.821656Z",
     "shell.execute_reply": "2024-02-24T15:41:11.820482Z"
    },
    "papermill": {
     "duration": 0.058415,
     "end_time": "2024-02-24T15:41:11.824684",
     "exception": false,
     "start_time": "2024-02-24T15:41:11.766269",
     "status": "completed"
    },
    "tags": []
   },
   "outputs": [
    {
     "name": "stderr",
     "output_type": "stream",
     "text": [
      "/opt/conda/lib/python3.10/site-packages/nltk/twitter/__init__.py:20: UserWarning: The twython library has not been installed. Some functionality from the twitter package will not be available.\n",
      "  warnings.warn(\"The twython library has not been installed. \"\n"
     ]
    }
   ],
   "source": [
    "from nltk.sentiment import SentimentIntensityAnalyzer\n",
    "from tqdm import tqdm\n",
    "\n",
    "sia = SentimentIntensityAnalyzer()"
   ]
  },
  {
   "cell_type": "code",
   "execution_count": 12,
   "id": "d3de1308",
   "metadata": {
    "execution": {
     "iopub.execute_input": "2024-02-24T15:41:11.851945Z",
     "iopub.status.busy": "2024-02-24T15:41:11.851484Z",
     "iopub.status.idle": "2024-02-24T15:41:11.858972Z",
     "shell.execute_reply": "2024-02-24T15:41:11.857819Z"
    },
    "papermill": {
     "duration": 0.025684,
     "end_time": "2024-02-24T15:41:11.862220",
     "exception": false,
     "start_time": "2024-02-24T15:41:11.836536",
     "status": "completed"
    },
    "tags": []
   },
   "outputs": [
    {
     "data": {
      "text/plain": [
       "<nltk.sentiment.vader.SentimentIntensityAnalyzer at 0x7e46c0ec3eb0>"
      ]
     },
     "execution_count": 12,
     "metadata": {},
     "output_type": "execute_result"
    }
   ],
   "source": [
    "sia"
   ]
  },
  {
   "cell_type": "code",
   "execution_count": 13,
   "id": "32c6b809",
   "metadata": {
    "execution": {
     "iopub.execute_input": "2024-02-24T15:41:11.887906Z",
     "iopub.status.busy": "2024-02-24T15:41:11.887484Z",
     "iopub.status.idle": "2024-02-24T15:41:11.894709Z",
     "shell.execute_reply": "2024-02-24T15:41:11.893664Z"
    },
    "papermill": {
     "duration": 0.022495,
     "end_time": "2024-02-24T15:41:11.897130",
     "exception": false,
     "start_time": "2024-02-24T15:41:11.874635",
     "status": "completed"
    },
    "tags": []
   },
   "outputs": [
    {
     "data": {
      "text/plain": [
       "{'neg': 0.0, 'neu': 0.334, 'pos': 0.666, 'compound': 0.6115}"
      ]
     },
     "execution_count": 13,
     "metadata": {},
     "output_type": "execute_result"
    }
   ],
   "source": [
    "sia.polarity_scores('i am so happy')"
   ]
  },
  {
   "cell_type": "code",
   "execution_count": 14,
   "id": "caa851ee",
   "metadata": {
    "execution": {
     "iopub.execute_input": "2024-02-24T15:41:11.919585Z",
     "iopub.status.busy": "2024-02-24T15:41:11.919085Z",
     "iopub.status.idle": "2024-02-24T15:41:11.928641Z",
     "shell.execute_reply": "2024-02-24T15:41:11.926951Z"
    },
    "papermill": {
     "duration": 0.023936,
     "end_time": "2024-02-24T15:41:11.931256",
     "exception": false,
     "start_time": "2024-02-24T15:41:11.907320",
     "status": "completed"
    },
    "tags": []
   },
   "outputs": [
    {
     "data": {
      "text/plain": [
       "{'neg': 0.451, 'neu': 0.549, 'pos': 0.0, 'compound': -0.6249}"
      ]
     },
     "execution_count": 14,
     "metadata": {},
     "output_type": "execute_result"
    }
   ],
   "source": [
    "sia.polarity_scores('This is the worst thing ever.')"
   ]
  },
  {
   "cell_type": "code",
   "execution_count": 15,
   "id": "2765072b",
   "metadata": {
    "execution": {
     "iopub.execute_input": "2024-02-24T15:41:11.955844Z",
     "iopub.status.busy": "2024-02-24T15:41:11.954226Z",
     "iopub.status.idle": "2024-02-24T15:41:11.964030Z",
     "shell.execute_reply": "2024-02-24T15:41:11.963002Z"
    },
    "papermill": {
     "duration": 0.024731,
     "end_time": "2024-02-24T15:41:11.966867",
     "exception": false,
     "start_time": "2024-02-24T15:41:11.942136",
     "status": "completed"
    },
    "tags": []
   },
   "outputs": [
    {
     "data": {
      "text/plain": [
       "{'neg': 0.22, 'neu': 0.78, 'pos': 0.0, 'compound': -0.5448}"
      ]
     },
     "execution_count": 15,
     "metadata": {},
     "output_type": "execute_result"
    }
   ],
   "source": [
    "sia.polarity_scores(example)"
   ]
  },
  {
   "cell_type": "code",
   "execution_count": 16,
   "id": "3ca8ab90",
   "metadata": {
    "execution": {
     "iopub.execute_input": "2024-02-24T15:41:11.990734Z",
     "iopub.status.busy": "2024-02-24T15:41:11.990297Z",
     "iopub.status.idle": "2024-02-24T15:41:12.643844Z",
     "shell.execute_reply": "2024-02-24T15:41:12.642552Z"
    },
    "papermill": {
     "duration": 0.670121,
     "end_time": "2024-02-24T15:41:12.647553",
     "exception": false,
     "start_time": "2024-02-24T15:41:11.977432",
     "status": "completed"
    },
    "tags": []
   },
   "outputs": [
    {
     "name": "stderr",
     "output_type": "stream",
     "text": [
      "100%|██████████| 500/500 [00:00<00:00, 779.51it/s]\n"
     ]
    }
   ],
   "source": [
    "# run the polarity score on the entire dataset\n",
    "res = {}\n",
    "for i, row in tqdm(df.iterrows(), total = len(df)):\n",
    "    text = row['Text']\n",
    "    myid = row['Id']\n",
    "    res[myid] = sia.polarity_scores(text)\n",
    "     \n",
    "    \n",
    "    "
   ]
  },
  {
   "cell_type": "code",
   "execution_count": 17,
   "id": "b26dc570",
   "metadata": {
    "execution": {
     "iopub.execute_input": "2024-02-24T15:41:12.676011Z",
     "iopub.status.busy": "2024-02-24T15:41:12.675570Z",
     "iopub.status.idle": "2024-02-24T15:41:12.712471Z",
     "shell.execute_reply": "2024-02-24T15:41:12.710878Z"
    },
    "papermill": {
     "duration": 0.05538,
     "end_time": "2024-02-24T15:41:12.715980",
     "exception": false,
     "start_time": "2024-02-24T15:41:12.660600",
     "status": "completed"
    },
    "tags": []
   },
   "outputs": [],
   "source": [
    "vaders = pd.DataFrame(res).T\n",
    "vaders = vaders.reset_index().rename(columns={'index': 'Id'})\n",
    "vaders = vaders.merge(df, how='left')\n",
    "\n"
   ]
  },
  {
   "cell_type": "code",
   "execution_count": 18,
   "id": "af2107e5",
   "metadata": {
    "execution": {
     "iopub.execute_input": "2024-02-24T15:41:12.743777Z",
     "iopub.status.busy": "2024-02-24T15:41:12.743288Z",
     "iopub.status.idle": "2024-02-24T15:41:12.770359Z",
     "shell.execute_reply": "2024-02-24T15:41:12.768447Z"
    },
    "papermill": {
     "duration": 0.045394,
     "end_time": "2024-02-24T15:41:12.773452",
     "exception": false,
     "start_time": "2024-02-24T15:41:12.728058",
     "status": "completed"
    },
    "tags": []
   },
   "outputs": [
    {
     "data": {
      "text/html": [
       "<div>\n",
       "<style scoped>\n",
       "    .dataframe tbody tr th:only-of-type {\n",
       "        vertical-align: middle;\n",
       "    }\n",
       "\n",
       "    .dataframe tbody tr th {\n",
       "        vertical-align: top;\n",
       "    }\n",
       "\n",
       "    .dataframe thead th {\n",
       "        text-align: right;\n",
       "    }\n",
       "</style>\n",
       "<table border=\"1\" class=\"dataframe\">\n",
       "  <thead>\n",
       "    <tr style=\"text-align: right;\">\n",
       "      <th></th>\n",
       "      <th>Id</th>\n",
       "      <th>neg</th>\n",
       "      <th>neu</th>\n",
       "      <th>pos</th>\n",
       "      <th>compound</th>\n",
       "      <th>ProductId</th>\n",
       "      <th>UserId</th>\n",
       "      <th>ProfileName</th>\n",
       "      <th>HelpfulnessNumerator</th>\n",
       "      <th>HelpfulnessDenominator</th>\n",
       "      <th>Score</th>\n",
       "      <th>Time</th>\n",
       "      <th>Summary</th>\n",
       "      <th>Text</th>\n",
       "    </tr>\n",
       "  </thead>\n",
       "  <tbody>\n",
       "    <tr>\n",
       "      <th>0</th>\n",
       "      <td>1</td>\n",
       "      <td>0.000</td>\n",
       "      <td>0.695</td>\n",
       "      <td>0.305</td>\n",
       "      <td>0.9441</td>\n",
       "      <td>B001E4KFG0</td>\n",
       "      <td>A3SGXH7AUHU8GW</td>\n",
       "      <td>delmartian</td>\n",
       "      <td>1</td>\n",
       "      <td>1</td>\n",
       "      <td>5</td>\n",
       "      <td>1303862400</td>\n",
       "      <td>Good Quality Dog Food</td>\n",
       "      <td>I have bought several of the Vitality canned d...</td>\n",
       "    </tr>\n",
       "    <tr>\n",
       "      <th>1</th>\n",
       "      <td>2</td>\n",
       "      <td>0.079</td>\n",
       "      <td>0.853</td>\n",
       "      <td>0.068</td>\n",
       "      <td>-0.1027</td>\n",
       "      <td>B00813GRG4</td>\n",
       "      <td>A1D87F6ZCVE5NK</td>\n",
       "      <td>dll pa</td>\n",
       "      <td>0</td>\n",
       "      <td>0</td>\n",
       "      <td>1</td>\n",
       "      <td>1346976000</td>\n",
       "      <td>Not as Advertised</td>\n",
       "      <td>Product arrived labeled as Jumbo Salted Peanut...</td>\n",
       "    </tr>\n",
       "    <tr>\n",
       "      <th>2</th>\n",
       "      <td>3</td>\n",
       "      <td>0.091</td>\n",
       "      <td>0.754</td>\n",
       "      <td>0.155</td>\n",
       "      <td>0.8265</td>\n",
       "      <td>B000LQOCH0</td>\n",
       "      <td>ABXLMWJIXXAIN</td>\n",
       "      <td>Natalia Corres \"Natalia Corres\"</td>\n",
       "      <td>1</td>\n",
       "      <td>1</td>\n",
       "      <td>4</td>\n",
       "      <td>1219017600</td>\n",
       "      <td>\"Delight\" says it all</td>\n",
       "      <td>This is a confection that has been around a fe...</td>\n",
       "    </tr>\n",
       "    <tr>\n",
       "      <th>3</th>\n",
       "      <td>4</td>\n",
       "      <td>0.000</td>\n",
       "      <td>1.000</td>\n",
       "      <td>0.000</td>\n",
       "      <td>0.0000</td>\n",
       "      <td>B000UA0QIQ</td>\n",
       "      <td>A395BORC6FGVXV</td>\n",
       "      <td>Karl</td>\n",
       "      <td>3</td>\n",
       "      <td>3</td>\n",
       "      <td>2</td>\n",
       "      <td>1307923200</td>\n",
       "      <td>Cough Medicine</td>\n",
       "      <td>If you are looking for the secret ingredient i...</td>\n",
       "    </tr>\n",
       "    <tr>\n",
       "      <th>4</th>\n",
       "      <td>5</td>\n",
       "      <td>0.000</td>\n",
       "      <td>0.552</td>\n",
       "      <td>0.448</td>\n",
       "      <td>0.9468</td>\n",
       "      <td>B006K2ZZ7K</td>\n",
       "      <td>A1UQRSCLF8GW1T</td>\n",
       "      <td>Michael D. Bigham \"M. Wassir\"</td>\n",
       "      <td>0</td>\n",
       "      <td>0</td>\n",
       "      <td>5</td>\n",
       "      <td>1350777600</td>\n",
       "      <td>Great taffy</td>\n",
       "      <td>Great taffy at a great price.  There was a wid...</td>\n",
       "    </tr>\n",
       "  </tbody>\n",
       "</table>\n",
       "</div>"
      ],
      "text/plain": [
       "   Id    neg    neu    pos  compound   ProductId          UserId  \\\n",
       "0   1  0.000  0.695  0.305    0.9441  B001E4KFG0  A3SGXH7AUHU8GW   \n",
       "1   2  0.079  0.853  0.068   -0.1027  B00813GRG4  A1D87F6ZCVE5NK   \n",
       "2   3  0.091  0.754  0.155    0.8265  B000LQOCH0   ABXLMWJIXXAIN   \n",
       "3   4  0.000  1.000  0.000    0.0000  B000UA0QIQ  A395BORC6FGVXV   \n",
       "4   5  0.000  0.552  0.448    0.9468  B006K2ZZ7K  A1UQRSCLF8GW1T   \n",
       "\n",
       "                       ProfileName  HelpfulnessNumerator  \\\n",
       "0                       delmartian                     1   \n",
       "1                           dll pa                     0   \n",
       "2  Natalia Corres \"Natalia Corres\"                     1   \n",
       "3                             Karl                     3   \n",
       "4    Michael D. Bigham \"M. Wassir\"                     0   \n",
       "\n",
       "   HelpfulnessDenominator  Score        Time                Summary  \\\n",
       "0                       1      5  1303862400  Good Quality Dog Food   \n",
       "1                       0      1  1346976000      Not as Advertised   \n",
       "2                       1      4  1219017600  \"Delight\" says it all   \n",
       "3                       3      2  1307923200         Cough Medicine   \n",
       "4                       0      5  1350777600            Great taffy   \n",
       "\n",
       "                                                Text  \n",
       "0  I have bought several of the Vitality canned d...  \n",
       "1  Product arrived labeled as Jumbo Salted Peanut...  \n",
       "2  This is a confection that has been around a fe...  \n",
       "3  If you are looking for the secret ingredient i...  \n",
       "4  Great taffy at a great price.  There was a wid...  "
      ]
     },
     "execution_count": 18,
     "metadata": {},
     "output_type": "execute_result"
    }
   ],
   "source": [
    "# Now we have \n",
    "vaders.head()"
   ]
  },
  {
   "cell_type": "markdown",
   "id": "1e8d1f0f",
   "metadata": {
    "papermill": {
     "duration": 0.011864,
     "end_time": "2024-02-24T15:41:12.797437",
     "exception": false,
     "start_time": "2024-02-24T15:41:12.785573",
     "status": "completed"
    },
    "tags": []
   },
   "source": [
    "## Plot VADERS results"
   ]
  },
  {
   "cell_type": "code",
   "execution_count": 19,
   "id": "fcae4be6",
   "metadata": {
    "execution": {
     "iopub.execute_input": "2024-02-24T15:41:12.823721Z",
     "iopub.status.busy": "2024-02-24T15:41:12.822996Z",
     "iopub.status.idle": "2024-02-24T15:41:13.235239Z",
     "shell.execute_reply": "2024-02-24T15:41:13.233869Z"
    },
    "papermill": {
     "duration": 0.429154,
     "end_time": "2024-02-24T15:41:13.238370",
     "exception": false,
     "start_time": "2024-02-24T15:41:12.809216",
     "status": "completed"
    },
    "tags": []
   },
   "outputs": [
    {
     "data": {
      "text/plain": [
       "Text(0.5, 1.0, 'Compound Score by Amazon Star Review')"
      ]
     },
     "execution_count": 19,
     "metadata": {},
     "output_type": "execute_result"
    },
    {
     "data": {
      "image/png": "[encoded data removed]",
      "text/plain": [
       "<Figure size 640x480 with 1 Axes>"
      ]
     },
     "metadata": {},
     "output_type": "display_data"
    }
   ],
   "source": [
    "sns.barplot(data= vaders, x= 'Score', y = 'compound')\n",
    "ax.set_title('Compound Score by Amazon Star Review')"
   ]
  },
  {
   "cell_type": "code",
   "execution_count": 20,
   "id": "57120cce",
   "metadata": {
    "execution": {
     "iopub.execute_input": "2024-02-24T15:41:13.265708Z",
     "iopub.status.busy": "2024-02-24T15:41:13.265195Z",
     "iopub.status.idle": "2024-02-24T15:41:14.603897Z",
     "shell.execute_reply": "2024-02-24T15:41:14.602462Z"
    },
    "papermill": {
     "duration": 1.355492,
     "end_time": "2024-02-24T15:41:14.606570",
     "exception": false,
     "start_time": "2024-02-24T15:41:13.251078",
     "status": "completed"
    },
    "tags": []
   },
   "outputs": [
    {
     "data": {
      "text/plain": [
       "Text(0.5, 1.0, 'Negative')"
      ]
     },
     "execution_count": 20,
     "metadata": {},
     "output_type": "execute_result"
    },
    {
     "data": {
      "image/png": "[encoded data removed]",
      "text/plain": [
       "<Figure size 1500x500 with 3 Axes>"
      ]
     },
     "metadata": {},
     "output_type": "display_data"
    }
   ],
   "source": [
    "fig, axs = plt.subplots(1,3, figsize=(15,5))\n",
    "sns.barplot(data= vaders, x= 'Score', y = 'pos', ax= axs[0])\n",
    "sns.barplot(data= vaders, x= 'Score', y = 'neu', ax= axs[1])\n",
    "sns.barplot(data= vaders, x= 'Score', y = 'neg', ax= axs[2])\n",
    "axs[0].set_title('Positive')\n",
    "axs[1].set_title('Neutral')\n",
    "axs[2].set_title('Negative')\n",
    "\n"
   ]
  },
  {
   "cell_type": "code",
   "execution_count": null,
   "id": "df5a280d",
   "metadata": {
    "papermill": {
     "duration": 0.013023,
     "end_time": "2024-02-24T15:41:14.632473",
     "exception": false,
     "start_time": "2024-02-24T15:41:14.619450",
     "status": "completed"
    },
    "tags": []
   },
   "outputs": [],
   "source": []
  }
 ],
 "metadata": {
  "kaggle": {
   "accelerator": "none",
   "dataSources": [
    {
     "datasetId": 4459264,
     "sourceId": 7649548,
     "sourceType": "datasetVersion"
    }
   ],
   "dockerImageVersionId": 30646,
   "isGpuEnabled": false,
   "isInternetEnabled": true,
   "language": "python",
   "sourceType": "notebook"
  },
  "kernelspec": {
   "display_name": "Python 3",
   "language": "python",
   "name": "python3"
  },
  "language_info": {
   "codemirror_mode": {
    "name": "ipython",
    "version": 3
   },
   "file_extension": ".py",
   "mimetype": "text/x-python",
   "name": "python",
   "nbconvert_exporter": "python",
   "pygments_lexer": "ipython3",
   "version": "3.10.13"
  },
  "papermill": {
   "default_parameters": {},
   "duration": 23.93233,
   "end_time": "2024-02-24T15:41:15.974670",
   "environment_variables": {},
   "exception": null,
   "input_path": "__notebook__.ipynb",
   "output_path": "__notebook__.ipynb",
   "parameters": {},
   "start_time": "2024-02-24T15:40:52.042340",
   "version": "2.5.0"
  }
 },
 "nbformat": 4,
 "nbformat_minor": 5
}
